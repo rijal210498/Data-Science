{
 "cells": [
  {
   "cell_type": "markdown",
   "metadata": {},
   "source": [
    "\n",
    "\n",
    "(1)\n"
   ]
  },
  {
   "cell_type": "code",
   "execution_count": 1,
   "metadata": {},
   "outputs": [
    {
     "name": "stdout",
     "output_type": "stream",
     "text": [
      "<class 'numpy.ndarray'>\n"
     ]
    }
   ],
   "source": [
    "tinggi = [180, 215, 210, 210, 188, 176, 209, 200] # dalam cm \n",
    "\n",
    "# Import numpy dengan alias np\n",
    "import numpy as np\n",
    "\n",
    "# Buat numpy array dengan list tinggi beri nama variabel np_tinggi\n",
    "np_tinggi = np.array(tinggi)\n",
    "\n",
    "\n",
    "# Print tipe data np_baseball\n",
    "print(type(np_tinggi))"
   ]
  },
  {
   "cell_type": "markdown",
   "metadata": {},
   "source": [
    "\n",
    "\n",
    "(2)\n"
   ]
  },
  {
   "cell_type": "code",
   "execution_count": 3,
   "metadata": {},
   "outputs": [
    {
     "name": "stdout",
     "output_type": "stream",
     "text": [
      "[1.8  2.15 2.1  2.1  1.88 1.76 2.09 2.  ]\n"
     ]
    }
   ],
   "source": [
    "# Buat np_tinggi menjadi dalam satuan meter\n",
    "np_tinggi = np_tinggi/100\n",
    "\n",
    "# print np_tinggi\n",
    "print(np_tinggi)"
   ]
  },
  {
   "cell_type": "markdown",
   "metadata": {},
   "source": [
    "\n",
    "\n",
    "(3)\n"
   ]
  },
  {
   "cell_type": "code",
   "execution_count": 5,
   "metadata": {},
   "outputs": [
    {
     "name": "stdout",
     "output_type": "stream",
     "text": [
      "[27.31481481 21.63331531 22.22222222 22.90249433 22.15368945 21.08083678\n",
      " 24.95364117 27.5       ]\n"
     ]
    }
   ],
   "source": [
    "berat = [88.5, 100, 98, 101, 78.3, 65.3, 109, 110]\n",
    "\n",
    "# Buatlah numpy array dari list berat dan simpan dalam np_berat\n",
    "np_berat = np.array(berat)\n",
    "\n",
    "# hitung bmi dari berat dan tinggi simpan ke dalam variabel bmi\n",
    "bmi = np_berat / np_tinggi ** 2\n",
    "print(bmi)"
   ]
  },
  {
   "cell_type": "markdown",
   "metadata": {},
   "source": [
    "\n",
    "\n",
    "(4)\n"
   ]
  },
  {
   "cell_type": "code",
   "execution_count": 6,
   "metadata": {},
   "outputs": [
    {
     "name": "stdout",
     "output_type": "stream",
     "text": [
      "[27.31481481 24.95364117 27.5       ]\n"
     ]
    }
   ],
   "source": [
    "# Buatalah numpy array boolean dengan denga operator > untuk mencari bmi yang lebih besar dari 23\n",
    "# Simpan dalam variabel bmi_tinggi\n",
    "bmi_tinggi = bmi >23\n",
    "\n",
    "# Partisi numpy array bmi dengan menggunkan bmi_tinggi untuk mencari bmi yang hanya lebih besar dari 23\n",
    "bmi = np.array(bmi)[bmi_tinggi]\n",
    "print(bmi)"
   ]
  },
  {
   "cell_type": "markdown",
   "metadata": {},
   "source": [
    "\n",
    "\n",
    "(5)\n",
    "\n",
    "    np.array([True, 1, 2]) + np.array([3, 4, False])\n",
    "    Manakah pilihan di bawah ini yang memilik hasil sama seperti di atas?\n",
    "    A. np.array([True, 1, 2, 3, 4, False])\n",
    "    B. np.array([4, 3, 0]) + np.array([0, 2, 2])\n",
    "    C. np.array([1, 1, 2]) + np.array([3, 4, -1])\n",
    "    D. np.array([0, 1, 2, 3, 4, 5])\n",
    "\n"
   ]
  },
  {
   "cell_type": "code",
   "execution_count": 7,
   "metadata": {},
   "outputs": [
    {
     "name": "stdout",
     "output_type": "stream",
     "text": [
      "[4 5 2]\n"
     ]
    }
   ],
   "source": [
    "\n",
    "\n",
    "dem = np.array([True, 1, 2]) + np.array([3, 4, False])\n",
    "print(dem)"
   ]
  },
  {
   "cell_type": "code",
   "execution_count": 8,
   "metadata": {
    "scrolled": true
   },
   "outputs": [
    {
     "ename": "SyntaxError",
     "evalue": "invalid syntax (<ipython-input-8-4889f05d22a2>, line 1)",
     "output_type": "error",
     "traceback": [
      "\u001b[1;36m  File \u001b[1;32m\"<ipython-input-8-4889f05d22a2>\"\u001b[1;36m, line \u001b[1;32m1\u001b[0m\n\u001b[1;33m    dem = np.array([True, 1, 2, 3. 4. False])\u001b[0m\n\u001b[1;37m                                    ^\u001b[0m\n\u001b[1;31mSyntaxError\u001b[0m\u001b[1;31m:\u001b[0m invalid syntax\n"
     ]
    }
   ],
   "source": [
    "\n",
    "\n",
    "dem = np.array([True, 1, 2, 3. 4. False]) \n",
    "print(dem)"
   ]
  },
  {
   "cell_type": "code",
   "execution_count": 10,
   "metadata": {},
   "outputs": [
    {
     "name": "stdout",
     "output_type": "stream",
     "text": [
      "[4 5 2]\n"
     ]
    }
   ],
   "source": [
    "dem = np.array([4, 3, 0]) + np.array([0, 2, 2])\n",
    "print(dem)"
   ]
  },
  {
   "cell_type": "code",
   "execution_count": 11,
   "metadata": {},
   "outputs": [
    {
     "name": "stdout",
     "output_type": "stream",
     "text": [
      "[4 5 1]\n"
     ]
    }
   ],
   "source": [
    "dem = np.array([1, 1, 2]) + np.array([3, 4, -1])\n",
    "print(dem)"
   ]
  },
  {
   "cell_type": "code",
   "execution_count": 13,
   "metadata": {},
   "outputs": [
    {
     "name": "stdout",
     "output_type": "stream",
     "text": [
      "[0 1 2 3 4 5]\n"
     ]
    }
   ],
   "source": [
    "dem = np.array([0, 1, 2, 3, 4, 5])\n",
    "print(dem)"
   ]
  },
  {
   "cell_type": "code",
   "execution_count": 14,
   "metadata": {},
   "outputs": [],
   "source": [
    "#B"
   ]
  },
  {
   "cell_type": "markdown",
   "metadata": {},
   "source": [
    "\n",
    "\n",
    "(6)\n",
    "subsetting 1D numpy array\n"
   ]
  },
  {
   "cell_type": "code",
   "execution_count": 15,
   "metadata": {},
   "outputs": [
    {
     "name": "stdout",
     "output_type": "stream",
     "text": [
      "110.0\n",
      "[2.1  1.88 1.76 2.09 2.  ]\n"
     ]
    }
   ],
   "source": [
    "# print hasil np_berat yang melik index terakhir\n",
    "print(np_berat[-1])\n",
    "\n",
    "# print 5 elemen terakhir dari np_tinggi\n",
    "print(np_tinggi[-5:])"
   ]
  },
  {
   "cell_type": "markdown",
   "metadata": {},
   "source": [
    "\n",
    "2D Numpy Array¶\n",
    "\n",
    "\n",
    "(7)\n"
   ]
  },
  {
   "cell_type": "code",
   "execution_count": 16,
   "metadata": {},
   "outputs": [
    {
     "name": "stdout",
     "output_type": "stream",
     "text": [
      "<class 'numpy.ndarray'>\n",
      "[[180.   78.4]\n",
      " [215.  102.7]\n",
      " [210.   98.5]\n",
      " [188.   75.2]]\n",
      "(4, 2)\n"
     ]
    }
   ],
   "source": [
    "pemain_basket = [[180, 78.4],\n",
    "                [215, 102.7],\n",
    "                [210, 98.5],\n",
    "                [188, 75.2]]\n",
    "\n",
    "# Buatlah 2D array dari pemain_basket simpan dalam variabel basket_2d\n",
    "basket_2d = np.array([[180, 78.4],[215, 102.7],[210, 98.5],[188, 75.2]])\n",
    "\n",
    "# print tipe dari basket_2d\n",
    "\n",
    "print(type(basket_2d))\n",
    "# print basket_2d\n",
    "print(basket_2d)\n",
    "\n",
    "# print dimensi dari basket_2d dengan basket_2d.shape\n",
    "print(basket_2d.shape)"
   ]
  },
  {
   "cell_type": "markdown",
   "metadata": {},
   "source": [
    "\n",
    "\n",
    "(8)\n"
   ]
  },
  {
   "cell_type": "code",
   "execution_count": 17,
   "metadata": {},
   "outputs": [
    {
     "data": {
      "text/plain": [
       "array([98.5, 75.2])"
      ]
     },
     "execution_count": 17,
     "metadata": {},
     "output_type": "execute_result"
    }
   ],
   "source": [
    "# Gunakan slicing untuk untuk mengambil hanya kolom pertama dari basket_2d\n",
    "basket_2d[:,0]\n",
    "\n",
    "# Gunakan slicing untuk mendapatkan 2 baris terakhir dan hanya kolom kedua dari basket_2d\n",
    "basket_2d[2:,1]"
   ]
  },
  {
   "cell_type": "markdown",
   "metadata": {},
   "source": [
    "\n",
    "\n",
    "(9) Coba eksekusi hasil di bawah ini apa hasilnya?\n"
   ]
  },
  {
   "cell_type": "code",
   "execution_count": 18,
   "metadata": {},
   "outputs": [
    {
     "name": "stdout",
     "output_type": "stream",
     "text": [
      "[[ 2  4]\n",
      " [ 6  8]\n",
      " [10 12]]\n",
      "[[11 12]\n",
      " [13 14]\n",
      " [15 16]]\n",
      "[[ 2  4]\n",
      " [ 6  8]\n",
      " [10 12]]\n"
     ]
    }
   ],
   "source": [
    "np_mat = np.array([[1, 2],\n",
    "                   [3, 4],\n",
    "                   [5, 6]])\n",
    "print(np_mat * 2)\n",
    "print(np_mat + np.array([10, 10]))\n",
    "print(np_mat + np_mat)"
   ]
  },
  {
   "cell_type": "code",
   "execution_count": 20,
   "metadata": {},
   "outputs": [
    {
     "name": "stdout",
     "output_type": "stream",
     "text": [
      "[ 83.4 107.7 103.5  80.2]\n",
      "[1.8  2.15 2.1  1.88]\n"
     ]
    }
   ],
   "source": [
    "# Print dengan tambahkan berat dari basket_2d (kolom kedua) dengan 5 \n",
    "print(np.add(basket_2d[:,1],5))\n",
    "\n",
    "# Print dengan mengubah tinggi basket_2d (kolom pertama) yang awalnya satuannya cm menjadi m\n",
    "print(np.divide(basket_2d[:,0],100))"
   ]
  },
  {
   "cell_type": "markdown",
   "metadata": {},
   "source": [
    "\n",
    "Statisika dasar dengan menggunakan NumPy\n",
    "\n",
    "(10)\n"
   ]
  },
  {
   "cell_type": "code",
   "execution_count": 21,
   "metadata": {},
   "outputs": [
    {
     "name": "stdout",
     "output_type": "stream",
     "text": [
      "1.9849999999999999\n",
      "2.045\n"
     ]
    }
   ],
   "source": [
    "# Berapakah mean dari np_tinggi? Kemudian print\n",
    "print(np.mean(np_tinggi))\n",
    "\n",
    "# Berapakah median dari np_tinggi? Kemudian print\n",
    "print(np.median(np_tinggi))"
   ]
  },
  {
   "cell_type": "markdown",
   "metadata": {},
   "source": [
    "\n",
    "\n",
    "(11)\n"
   ]
  },
  {
   "cell_type": "code",
   "execution_count": 24,
   "metadata": {},
   "outputs": [
    {
     "name": "stdout",
     "output_type": "stream",
     "text": [
      "Rata - Rata: 198.25\n",
      "Median: 141.35\n",
      "Standard Deviation: 56.390973346804365\n",
      "Korealasi: [[1. 1. 1. 1.]\n",
      " [1. 1. 1. 1.]\n",
      " [1. 1. 1. 1.]\n",
      " [1. 1. 1. 1.]]\n"
     ]
    }
   ],
   "source": [
    "# Print tinggi dari basket_2d (kolom pertama)\n",
    "rata_rata = np.mean(basket_2d[:,0])\n",
    "print(\"Rata - Rata: \" + str(rata_rata) )\n",
    "\n",
    "# Print median dari tinggi basket_2d\n",
    "med = np.median(basket_2d)\n",
    "print(\"Median: \" + str(med))\n",
    "\n",
    "# Print standar deviasi dari basket_2d\n",
    "stddev = np.std(basket_2d)\n",
    "print(\"Standard Deviation: \" + str(stddev))\n",
    "\n",
    "# Print korelasi antara kolom pertama dengan kedua dari basket_2d\n",
    "korelasi = np.corrcoef(basket_2d[:,[0,1]])\n",
    "print(\"Korealasi: \" + str(korelasi))"
   ]
  }
 ],
 "metadata": {
  "kernelspec": {
   "display_name": "Python 3",
   "language": "python",
   "name": "python3"
  },
  "language_info": {
   "codemirror_mode": {
    "name": "ipython",
    "version": 3
   },
   "file_extension": ".py",
   "mimetype": "text/x-python",
   "name": "python",
   "nbconvert_exporter": "python",
   "pygments_lexer": "ipython3",
   "version": "3.7.4"
  }
 },
 "nbformat": 4,
 "nbformat_minor": 2
}
